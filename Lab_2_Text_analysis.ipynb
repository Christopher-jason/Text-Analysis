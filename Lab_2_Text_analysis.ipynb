{
  "nbformat": 4,
  "nbformat_minor": 0,
  "metadata": {
    "colab": {
      "provenance": [],
      "authorship_tag": "ABX9TyMb8zay6TbvoRsjLCnRBxJ2",
      "include_colab_link": true
    },
    "kernelspec": {
      "name": "python3",
      "display_name": "Python 3"
    },
    "language_info": {
      "name": "python"
    }
  },
  "cells": [
    {
      "cell_type": "markdown",
      "metadata": {
        "id": "view-in-github",
        "colab_type": "text"
      },
      "source": [
        "<a href=\"https://colab.research.google.com/github/Christopher-jason/Text-Analysis/blob/main/Lab_2_Text_analysis.ipynb\" target=\"_parent\"><img src=\"https://colab.research.google.com/assets/colab-badge.svg\" alt=\"Open In Colab\"/></a>"
      ]
    },
    {
      "cell_type": "code",
      "execution_count": null,
      "metadata": {
        "id": "QnG61l6RRQlw"
      },
      "outputs": [],
      "source": [
        "import os\n",
        "import scipy as sp\n",
        "from scipy.stats import norm\n",
        "from matplotlib import pylab\n",
        "from sklearn.cluster import KMeans"
      ]
    },
    {
      "cell_type": "code",
      "source": [
        "from google.colab import drive\n",
        "\n",
        "drive.mount('/content/gdrive/', force_remount=True)"
      ],
      "metadata": {
        "colab": {
          "base_uri": "https://localhost:8080/"
        },
        "id": "eVmpgveWVJ5H",
        "outputId": "3dd29c29-12ae-4e11-c60f-86b7a5efdae3"
      },
      "execution_count": null,
      "outputs": [
        {
          "output_type": "stream",
          "name": "stdout",
          "text": [
            "Mounted at /content/gdrive/\n"
          ]
        }
      ]
    },
    {
      "cell_type": "code",
      "source": [
        "ls"
      ],
      "metadata": {
        "colab": {
          "base_uri": "https://localhost:8080/"
        },
        "id": "kL9NMNB_Z6dp",
        "outputId": "826c56ec-3515-42cc-ad99-4c20eef44664"
      },
      "execution_count": null,
      "outputs": [
        {
          "output_type": "stream",
          "name": "stdout",
          "text": [
            "\u001b[0m\u001b[01;34mgdrive\u001b[0m/  \u001b[01;34msample_data\u001b[0m/\n"
          ]
        }
      ]
    },
    {
      "cell_type": "code",
      "source": [
        "cd gdrive/MyDrive\n"
      ],
      "metadata": {
        "colab": {
          "base_uri": "https://localhost:8080/"
        },
        "id": "wVi1-iGhaB80",
        "outputId": "bbc644e2-8789-496d-add8-7a5c9948108b"
      },
      "execution_count": null,
      "outputs": [
        {
          "output_type": "stream",
          "name": "stdout",
          "text": [
            "/content/gdrive/MyDrive\n"
          ]
        }
      ]
    },
    {
      "cell_type": "code",
      "source": [
        "ls\n"
      ],
      "metadata": {
        "colab": {
          "base_uri": "https://localhost:8080/"
        },
        "id": "8o7_aR5iaODG",
        "outputId": "bd7f3d9d-84ae-489d-b781-5f9fa0138117"
      },
      "execution_count": null,
      "outputs": [
        {
          "output_type": "stream",
          "name": "stdout",
          "text": [
            "'12th Marks.pdf'\n",
            " 16408675193415569998395090803104.jpg\n",
            " 16408675722113778110860321083783.jpg\n",
            " 2017.odt\n",
            "'2018 (1).gdoc'\n",
            "'2018 (2).gdoc'\n",
            " 2018.gdoc\n",
            " 2018.odt\n",
            "'ACFrOgBswoP2AkfT_2dX_IdJMZtRtKt3uoMPEQ47iqzU38sJi8XfrzbSvSXsPAKPDDGddG69sixV2NLZbzN04aR8JqesM4IFJV74rNX56ds3HQapEMFSoyymwOGYIF8=.pdf'\n",
            "'ACFrOgDBELAum1loIV6vaEo5kfMIbBU5sK_sVQCzmAAwSoh80c-529C8iWHWSdE1X5OtyO8HFVLmnwPCDRjz_SGWLJquajDQKR2M__XITtY7uwIDIUKtQ4Bd8AsAunI=.pdf'\n",
            "'ACFrOgDBELAum1loIV6vaEo5kfMIbBU5sK_sVQCzmAAwSoh80c-529C8iWHWSdE1X5OtyO8HFVLmnwPCDRjz_SGWLJquajDQKR2M__XITtY7uwIDIUKtQ4Bd8AsAunI=.pdf.gdoc'\n",
            " AI.pdf\n",
            "'AI rough draft.gdoc'\n",
            "\u001b[0m\u001b[01;34m'APL work'\u001b[0m/\n",
            "\u001b[01;34m'Ardrey Kell'\u001b[0m/\n",
            "'Ashoka Essay Draft.gdoc'\n",
            "'ASHOKA SOP.docx'\n",
            "'ASHOKA SOP.docx.gdoc'\n",
            "'ASHOKA SOP.gdoc'\n",
            "'Asoka Essay Final.gdoc'\n",
            " Attachments_20151124.zip\n",
            " \u001b[01;34mBackup\u001b[0m/\n",
            " blockchain.pdf\n",
            "'Bubblesort code.gdoc'\n",
            " bugreport-Nord_IND-QKQ1.200412.002-2020-11-07-17-10-55.png\n",
            " bugreport-Nord_IND-QKQ1.200412.002-2020-11-07-17-10-55.zip\n",
            "\u001b[01;34m'Canada 2023'\u001b[0m/\n",
            "'Change of Address.gdoc'\n",
            " Chris_Invoice_09.pdf\n",
            " Chris_Invoice.pdf\n",
            "'Christopher_1741017 (1).gslides'\n",
            " Christopher_1741017.gslides\n",
            "'Christopher Jason Sagayaraj (NV).pdf'\n",
            "'Christopher Passport (1).pdf'\n",
            "'Christopher Passport.pdf'\n",
            "\u001b[01;34m'Christ University'\u001b[0m/\n",
            "'CIA 1- 1BCA.gdoc'\n",
            " \u001b[01;34mClassroom\u001b[0m/\n",
            " CMR_Zerodah.pdf\n",
            " CODE.gdoc\n",
            "\u001b[01;34m'Colab Notebooks'\u001b[0m/\n",
            "'College Essay.gdoc'\n",
            "'Com fi rough draft -1.gdoc'\n",
            "'Com fi rough draft -1.pdf'\n",
            "'Com fi rough draft .gdoc'\n",
            "'Common Definitions.gdoc'\n",
            "'Components of OS.gdoc'\n",
            " CompSciSPreRel2015lol.docx\n",
            "'computer science pre- release.gdoc'\n",
            "'Consent Form.gdoc'\n",
            "'Consolidated mark sheet.pdf'\n",
            "'Context Switch.gdoc'\n",
            "'Copy of ATS-friendly Resume v1 (courtesy of Unfold Careers **not sponsored or affiliated in any way**).gdoc'\n",
            "'Copy of Management Consulting by Slidesgo.gslides'\n",
            "'Copy of UseOfRepresentative.pdf'\n",
            "'Cosmetics Inc..gsheet'\n",
            " Customer-service-survey-responses.gsheet\n",
            "\u001b[01;34m'Data Analytics'\u001b[0m/\n",
            "'Data Journal: Journal Entry Templates.gdoc'\n",
            "'Dear.Zindagi.2016.Hindi.Bluray.1080p.YIFYTORRENT.[CO].torrent'\n",
            "'Document from Christopher Jason'\n",
            "'Document from cjs2.gdoc'\n",
            "'Document from cjs2.pdf'\n",
            "'Document from cjs.gdoc'\n",
            "'Document from cjs.pdf'\n",
            "'Dynamic Dataset.gsheet'\n",
            "'Employment letter - Christopher Sagayaraj.pdf'\n",
            " \u001b[01;34mESSEX\u001b[0m/\n",
            "'Essex - AI - SOP.gdoc'\n",
            "'Essex - Algorithmic Trading - SOP.gdoc'\n",
            "'Essex - Computational finance - SOP.gdoc'\n",
            "'Essex SOP - cs finance.gdoc'\n",
            "'Final RH Scholarship Essay - AI.gdoc'\n",
            " frame.png\n",
            " Google_Data_Analytics_Certificate_Badge20220404-46-1w1xd51.pdf\n",
            "'grade 10 legend.pdf'\n",
            "'Grade 10 results final.pdf'\n",
            "'grow unsigned.pdf'\n",
            "'Hall Ticket.pdf'\n",
            "'Heriot - AI - SOP.gdoc'\n",
            "'Holloway - AI - SOP.gdoc'\n",
            "'Holloway - Computational finance - SOP.gdoc'\n",
            "'IMG-20210806-WA0070_2 (2).jpg'\n",
            " impquestionslistcn-3.xlsx\n",
            " IncentoEncrypted.json\n",
            "'Informal letter.gdoc'\n",
            " IPC.gdoc\n",
            "'IT-Acknowledgement 2021-2022.pdf'\n",
            " \u001b[01;34mJHS\u001b[0m/\n",
            "'LOR email.gdoc'\n",
            "'MA_thesis_Amita_rachel_thomas (1).docx'\n",
            "'MA_thesis_Amita_rachel_thomas (2).docx'\n",
            " MA_thesis_Amita_rachel_thomas.docx\n",
            "'Patty Memorial - Slideshow.gslides'\n",
            "\u001b[01;34m'Personal documents'\u001b[0m/\n",
            " \u001b[01;34mPICS\u001b[0m/\n",
            " pics.rar\n",
            "\u001b[01;34m'PS3 controller'\u001b[0m/\n",
            "\u001b[01;34m'PS4 details'\u001b[0m/\n",
            "'Python question.gdoc'\n",
            "'Rent agreement.pdf'\n",
            "'Resume (1).gdoc'\n",
            " Resume.gdoc\n",
            "'RHUL Sholarship Essay - Computational  Finance.gdoc'\n",
            "'SAMPLE NOTEPAD FILE.txt.gdoc'\n",
            " Schedulers.gdoc\n",
            " Scheduling.gdoc\n",
            "'Scholarship Essay - AI.gdoc'\n",
            "'Silver jubilee final final.mp4'\n",
            " sjgXNPPoQeK4FzTz6DHi_g_eccf120011744eec9984c1de1de8e0f1_ex1-ex8-matlab.zip\n",
            " Spotify.apk\n",
            "'Spotify.Music.[v.5.1.0.849]._ed.Riu-ALPHAGAMERS.apk'\n",
            " Spotify_Premium.apk\n",
            " Spotify-v8.4.42.722-.apk\n",
            " Spotify-v8.4.55.521-Beta-www.ReXdl.com.apk\n",
            "'Student details for Online application-may 2021.numbers'\n",
            "'System Calls.gdoc'\n",
            "\u001b[01;34m'UK 2023'\u001b[0m/\n",
            " UseOfRepresentative.pdf\n"
          ]
        }
      ]
    },
    {
      "cell_type": "code",
      "source": [
        "cd Colab\\ Notebooks"
      ],
      "metadata": {
        "colab": {
          "base_uri": "https://localhost:8080/"
        },
        "id": "3rAZVQ2raSuU",
        "outputId": "d7b04667-07b1-449d-a879-b308d3d25bed"
      },
      "execution_count": null,
      "outputs": [
        {
          "output_type": "stream",
          "name": "stdout",
          "text": [
            "/content/gdrive/MyDrive/Colab Notebooks\n"
          ]
        }
      ]
    },
    {
      "cell_type": "code",
      "source": [
        "from utils import CHART_DIR"
      ],
      "metadata": {
        "id": "acuktDfqaWa5"
      },
      "execution_count": null,
      "outputs": []
    },
    {
      "cell_type": "code",
      "source": [
        "def plot_clustering(x, y, title, mx=None, ymax=None, xmin=None, km=None):\n",
        "    pylab.figure(num=None, figsize=(8, 6))\n",
        "    if km:\n",
        "        pylab.scatter(x, y, s=50, c=km.predict(list(zip(x, y))))\n",
        "    else:\n",
        "        pylab.scatter(x, y, s=50)\n",
        "\n",
        "    pylab.title(title)\n",
        "    pylab.xlabel(\"Occurrence word 1\")\n",
        "    pylab.ylabel(\"Occurrence word 2\")\n",
        "\n",
        "    pylab.autoscale(tight=True)\n",
        "    pylab.ylim(ymin=0, ymax=1)\n",
        "    pylab.xlim(xmin=0, xmax=1)\n",
        "    pylab.grid(True, linestyle='-', color='0.75')\n",
        "\n",
        "    return pylab"
      ],
      "metadata": {
        "id": "qzvyjjC4Ze8V"
      },
      "execution_count": null,
      "outputs": []
    },
    {
      "cell_type": "code",
      "source": [
        "xw1 = norm(loc=0.3, scale=.15).rvs(20)\n",
        "yw1 = norm(loc=0.3, scale=.15).rvs(20)\n",
        "\n",
        "xw2 = norm(loc=0.7, scale=.15).rvs(20)\n",
        "yw2 = norm(loc=0.7, scale=.15).rvs(20)\n",
        "\n",
        "xw3 = norm(loc=0.2, scale=.15).rvs(20)\n",
        "yw3 = norm(loc=0.8, scale=.15).rvs(20)\n",
        "\n",
        "x = sp.append(sp.append(xw1, xw2), xw3)\n",
        "y = sp.append(sp.append(yw1, yw2), yw3)\n",
        "\n",
        "i = 1\n",
        "plot_clustering(x, y, \"Vectors\")\n"
      ],
      "metadata": {
        "colab": {
          "base_uri": "https://localhost:8080/",
          "height": 509
        },
        "id": "e5RmytDHZWRp",
        "outputId": "b84d77dc-7a80-47e5-fc4f-bb037d5c2fa3"
      },
      "execution_count": null,
      "outputs": [
        {
          "output_type": "stream",
          "name": "stderr",
          "text": [
            "<ipython-input-24-9df51f0b4ba4>:10: DeprecationWarning: scipy.append is deprecated and will be removed in SciPy 2.0.0, use numpy.append instead\n",
            "  x = sp.append(sp.append(xw1, xw2), xw3)\n",
            "<ipython-input-24-9df51f0b4ba4>:11: DeprecationWarning: scipy.append is deprecated and will be removed in SciPy 2.0.0, use numpy.append instead\n",
            "  y = sp.append(sp.append(yw1, yw2), yw3)\n"
          ]
        },
        {
          "output_type": "execute_result",
          "data": {
            "text/plain": [
              "<module 'matplotlib.pylab' from '/usr/local/lib/python3.8/dist-packages/matplotlib/pylab.py'>"
            ]
          },
          "metadata": {},
          "execution_count": 24
        },
        {
          "output_type": "display_data",
          "data": {
            "text/plain": [
              "<Figure size 576x432 with 1 Axes>"
            ],
            "image/png": "[encoded data removed]"
          },
          "metadata": {
            "needs_background": "light"
          }
        }
      ]
    },
    {
      "cell_type": "code",
      "source": [
        "seed = 2\n",
        "sp.random.seed(seed)  # to reproduce the data later on\n",
        "\n",
        "num_clusters = 3\n"
      ],
      "metadata": {
        "id": "BqTInER4cooo"
      },
      "execution_count": null,
      "outputs": []
    },
    {
      "cell_type": "code",
      "source": [
        " i+= 1\n",
        "\n",
        "# 1 iteration ####################\n",
        "\n",
        "mx, my = sp.meshgrid(sp.arange(0, 1, 0.001), sp.arange(0, 1, 0.001))\n",
        "\n",
        "km = KMeans(init='random', n_clusters=num_clusters, verbose=1,\n",
        "            n_init=1, max_iter=1,\n",
        "            random_state=seed)\n",
        "km.fit(sp.array(list(zip(x, y))))\n",
        "\n",
        "Z = km.predict(sp.c_[mx.ravel(), my.ravel()]).reshape(mx.shape)\n",
        "\n",
        "plot_clustering(x, y, \"Clustering iteration 1\", km=km)\n",
        "pylab.imshow(Z, interpolation='nearest',\n",
        "             extent=(mx.min(), mx.max(), my.min(), my.max()),\n",
        "             cmap=pylab.cm.Blues,\n",
        "             aspect='auto', origin='lower')\n",
        "\n",
        "c1a, c1b, c1c = km.cluster_centers_\n",
        "pylab.scatter(km.cluster_centers_[:, 0], km.cluster_centers_[:, 1],\n",
        "              marker='x', linewidth=2, s=100, color='black')\n",
        "pylab.savefig(os.path.join(CHART_DIR, \"1400_03_0%i.png\" % i))\n",
        "pylab.show()\n",
        "pylab.clf()\n",
        "pylab.close()"
      ],
      "metadata": {
        "colab": {
          "base_uri": "https://localhost:8080/",
          "height": 560
        },
        "id": "MD-Cku2GcdQ5",
        "outputId": "1d408cfc-6fae-4f2a-bf51-36dae5631e69"
      },
      "execution_count": null,
      "outputs": [
        {
          "output_type": "stream",
          "name": "stderr",
          "text": [
            "<ipython-input-30-dcbdbc6abe0b>:5: DeprecationWarning: scipy.arange is deprecated and will be removed in SciPy 2.0.0, use numpy.arange instead\n",
            "  mx, my = sp.meshgrid(sp.arange(0, 1, 0.001), sp.arange(0, 1, 0.001))\n",
            "<ipython-input-30-dcbdbc6abe0b>:5: DeprecationWarning: scipy.meshgrid is deprecated and will be removed in SciPy 2.0.0, use numpy.meshgrid instead\n",
            "  mx, my = sp.meshgrid(sp.arange(0, 1, 0.001), sp.arange(0, 1, 0.001))\n",
            "<ipython-input-30-dcbdbc6abe0b>:10: DeprecationWarning: scipy.array is deprecated and will be removed in SciPy 2.0.0, use numpy.array instead\n",
            "  km.fit(sp.array(list(zip(x, y))))\n"
          ]
        },
        {
          "output_type": "stream",
          "name": "stdout",
          "text": [
            "Initialization complete\n",
            "Iteration 0, inertia 2.95160134965463\n"
          ]
        },
        {
          "output_type": "display_data",
          "data": {
            "text/plain": [
              "<Figure size 576x432 with 1 Axes>"
            ],
            "image/png": "[encoded data removed]"
          },
          "metadata": {
            "needs_background": "light"
          }
        }
      ]
    },
    {
      "cell_type": "code",
      "source": [
        "i += 1\n",
        "\n",
        "# 2 iterations ####################\n",
        "km = KMeans(init='random', n_clusters=num_clusters, verbose=1,\n",
        "            n_init=1, max_iter=2,\n",
        "            random_state=seed)\n",
        "km.fit(sp.array(list(zip(x, y))))\n",
        "\n",
        "Z = km.predict(sp.c_[mx.ravel(), my.ravel()]).reshape(mx.shape)\n",
        "\n",
        "plot_clustering(x, y, \"Clustering iteration 2\", km=km)\n",
        "pylab.imshow(Z, interpolation='nearest',\n",
        "             extent=(mx.min(), mx.max(), my.min(), my.max()),\n",
        "             cmap=pylab.cm.Blues,\n",
        "             aspect='auto', origin='lower')\n",
        "\n",
        "c2a, c2b, c2c = km.cluster_centers_\n",
        "pylab.scatter(km.cluster_centers_[:, 0], km.cluster_centers_[:, 1],\n",
        "              marker='x', linewidth=2, s=100, color='black')\n",
        "\n",
        "pylab.gca().add_patch(\n",
        "    pylab.Arrow(c1a[0], c1a[1], c2a[0] - c1a[0], c2a[1] - c1a[1], width=0.1))\n",
        "pylab.gca().add_patch(\n",
        "    pylab.Arrow(c1b[0], c1b[1], c2b[0] - c1b[0], c2b[1] - c1b[1], width=0.1))\n",
        "pylab.gca().add_patch(\n",
        "    pylab.Arrow(c1c[0], c1c[1], c2c[0] - c1c[0], c2c[1] - c1c[1], width=0.1))\n",
        "\n",
        "pylab.savefig(os.path.join(CHART_DIR, \"1400_03_0%i.png\" % i))\n",
        "pylab.show()\n",
        "pylab.clf()\n",
        "pylab.close()"
      ],
      "metadata": {
        "colab": {
          "base_uri": "https://localhost:8080/",
          "height": 509
        },
        "id": "xHTFppVPdMHA",
        "outputId": "9788c44a-8192-43a9-c01c-920d4b9f7373"
      },
      "execution_count": null,
      "outputs": [
        {
          "output_type": "stream",
          "name": "stderr",
          "text": [
            "<ipython-input-31-765ed516e6fd>:7: DeprecationWarning: scipy.array is deprecated and will be removed in SciPy 2.0.0, use numpy.array instead\n",
            "  km.fit(sp.array(list(zip(x, y))))\n"
          ]
        },
        {
          "output_type": "stream",
          "name": "stdout",
          "text": [
            "Initialization complete\n",
            "Iteration 0, inertia 2.95160134965463\n",
            "Iteration 1, inertia 2.6677556350713227\n"
          ]
        },
        {
          "output_type": "display_data",
          "data": {
            "text/plain": [
              "<Figure size 576x432 with 1 Axes>"
            ],
            "image/png": "[encoded data removed]"
          },
          "metadata": {
            "needs_background": "light"
          }
        }
      ]
    },
    {
      "cell_type": "code",
      "source": [
        "import sklearn.datasets\n",
        "import scipy as sp"
      ],
      "metadata": {
        "id": "BmtMeCVTgxPt"
      },
      "execution_count": null,
      "outputs": []
    },
    {
      "cell_type": "code",
      "source": [
        "new_post = \\\n",
        "    \"\"\"Disk drive problems. Hi, I have a problem with my hard disk.\n",
        "After 1 year it is working only sporadically now.\n",
        "I tried to format it, but now it doesn't boot any more.\n",
        "Any ideas? Thanks.\n",
        "\"\"\"\n",
        "\n",
        "all_data = sklearn.datasets.fetch_20newsgroups(subset=\"all\")\n",
        "print(\"Number of total posts: %i\" % len(all_data.filenames))\n",
        "# Number of total posts: 18846\n",
        "\n",
        "groups = [\n",
        "    'comp.graphics', 'comp.os.ms-windows.misc', 'comp.sys.ibm.pc.hardware',\n",
        "    'comp.sys.mac.hardware', 'comp.windows.x', 'sci.space']\n",
        "train_data = sklearn.datasets.fetch_20newsgroups(subset=\"train\",\n",
        "                                                 categories=groups)\n",
        "print(\"Number of training posts in tech groups:\", len(train_data.filenames))\n",
        "# Number of training posts in tech groups: 3529"
      ],
      "metadata": {
        "colab": {
          "base_uri": "https://localhost:8080/"
        },
        "id": "gp2S_gadhN7K",
        "outputId": "91db6e4d-15cb-4e9c-86dd-3d7ccf853b46"
      },
      "execution_count": null,
      "outputs": [
        {
          "output_type": "stream",
          "name": "stdout",
          "text": [
            "Number of total posts: 18846\n",
            "Number of training posts in tech groups: 3529\n"
          ]
        }
      ]
    },
    {
      "cell_type": "code",
      "source": [
        "labels = train_data.target\n",
        "num_clusters = 50"
      ],
      "metadata": {
        "id": "UEtcnr4ShTt5"
      },
      "execution_count": null,
      "outputs": []
    },
    {
      "cell_type": "code",
      "source": [
        "import nltk.stem\n",
        "english_stemmer = nltk.stem.SnowballStemmer('english')"
      ],
      "metadata": {
        "id": "wy5Kno1ThWut"
      },
      "execution_count": null,
      "outputs": []
    },
    {
      "cell_type": "code",
      "source": [
        "from sklearn.feature_extraction.text import TfidfVectorizer"
      ],
      "metadata": {
        "id": "19Kq7O3whZRg"
      },
      "execution_count": null,
      "outputs": []
    },
    {
      "cell_type": "code",
      "source": [
        "class StemmedTfidfVectorizer(TfidfVectorizer):\n",
        "\n",
        "    def build_analyzer(self):\n",
        "        analyzer = super(TfidfVectorizer, self).build_analyzer()\n",
        "        return lambda doc: (english_stemmer.stem(w) for w in analyzer(doc))\n",
        "\n",
        "vectorizer = StemmedTfidfVectorizer(min_df=10, max_df=0.5,\n",
        "                                    stop_words='english', decode_error='ignore'\n",
        "                                    )\n",
        "\n",
        "vectorized = vectorizer.fit_transform(train_data.data)\n",
        "num_samples, num_features = vectorized.shape\n",
        "print(\"#samples: %d, #features: %d\" % (num_samples, num_features))"
      ],
      "metadata": {
        "colab": {
          "base_uri": "https://localhost:8080/"
        },
        "id": "gFgKEC6ch0hU",
        "outputId": "078cede3-3dd6-4ce1-e68a-b590def8c785"
      },
      "execution_count": null,
      "outputs": [
        {
          "output_type": "stream",
          "name": "stdout",
          "text": [
            "#samples: 3529, #features: 4712\n"
          ]
        }
      ]
    },
    {
      "cell_type": "code",
      "source": [
        "from sklearn.cluster import KMeans\n",
        "\n",
        "km = KMeans(n_clusters=num_clusters, n_init=1, verbose=1, random_state=3)\n",
        "clustered = km.fit(vectorized)\n",
        "\n",
        "print(\"km.labels_=%s\" % km.labels_)\n",
        "# km.labels_=[ 6 34 22 ...,  2 21 26]\n",
        "\n",
        "print(\"km.labels_.shape=%s\" % km.labels_.shape)"
      ],
      "metadata": {
        "colab": {
          "base_uri": "https://localhost:8080/"
        },
        "id": "799RDnKih585",
        "outputId": "1d24f55e-fea3-4c4e-bcb2-2c795528783a"
      },
      "execution_count": null,
      "outputs": [
        {
          "output_type": "stream",
          "name": "stdout",
          "text": [
            "Initialization complete\n",
            "Iteration 0, inertia 5686.0525436637\n",
            "Iteration 1, inertia 3164.8875140123528\n",
            "Iteration 2, inertia 3132.2077111951467\n",
            "Iteration 3, inertia 3111.712575878138\n",
            "Iteration 4, inertia 3098.583773647865\n",
            "Iteration 5, inertia 3092.1905280374385\n",
            "Iteration 6, inertia 3087.2770892443127\n",
            "Iteration 7, inertia 3084.1004773772715\n",
            "Iteration 8, inertia 3082.7997677507046\n",
            "Iteration 9, inertia 3082.234382617422\n",
            "Iteration 10, inertia 3081.9487984162006\n",
            "Iteration 11, inertia 3081.843333964575\n",
            "Iteration 12, inertia 3081.790665037127\n",
            "Iteration 13, inertia 3081.752217763826\n",
            "Iteration 14, inertia 3081.659718679884\n",
            "Iteration 15, inertia 3081.616791469508\n",
            "Iteration 16, inertia 3081.5894842981634\n",
            "Iteration 17, inertia 3081.57097030357\n",
            "Converged at iteration 17: strict convergence.\n",
            "km.labels_=[48 23 31 ...  6  2 22]\n",
            "km.labels_.shape=3529\n"
          ]
        }
      ]
    },
    {
      "cell_type": "code",
      "source": [
        "from sklearn import metrics\n",
        "print(\"Homogeneity: %0.3f\" % metrics.homogeneity_score(labels, km.labels_))\n",
        "# Homogeneity: 0.400\n",
        "print(\"Completeness: %0.3f\" % metrics.completeness_score(labels, km.labels_))\n",
        "# Completeness: 0.206\n",
        "print(\"V-measure: %0.3f\" % metrics.v_measure_score(labels, km.labels_))\n",
        "# V-measure: 0.272\n",
        "print(\"Adjusted Rand Index: %0.3f\" %\n",
        "      metrics.adjusted_rand_score(labels, km.labels_))\n",
        "# Adjusted Rand Index: 0.064\n",
        "print(\"Adjusted Mutual Information: %0.3f\" %\n",
        "      metrics.adjusted_mutual_info_score(labels, km.labels_))\n",
        "# Adjusted Mutual Information: 0.197\n",
        "print((\"Silhouette Coefficient: %0.3f\" %\n",
        "       metrics.silhouette_score(vectorized, labels, sample_size=1000)))"
      ],
      "metadata": {
        "colab": {
          "base_uri": "https://localhost:8080/"
        },
        "id": "_v07E6w1ikqv",
        "outputId": "c6389126-4e1f-4f2e-818c-40ed5fc2db62"
      },
      "execution_count": null,
      "outputs": [
        {
          "output_type": "stream",
          "name": "stdout",
          "text": [
            "Homogeneity: 0.445\n",
            "Completeness: 0.231\n",
            "V-measure: 0.304\n",
            "Adjusted Rand Index: 0.094\n",
            "Adjusted Mutual Information: 0.294\n",
            "Silhouette Coefficient: 0.006\n"
          ]
        }
      ]
    },
    {
      "cell_type": "code",
      "source": [
        "new_post_vec = vectorizer.transform([new_post])\n",
        "new_post_label = km.predict(new_post_vec)[0]"
      ],
      "metadata": {
        "id": "gb_Fjq92iqOh"
      },
      "execution_count": null,
      "outputs": []
    },
    {
      "cell_type": "code",
      "source": [
        "similar_indices = (km.labels_ == new_post_label).nonzero()[0]"
      ],
      "metadata": {
        "id": "COwXw6S2it5V"
      },
      "execution_count": null,
      "outputs": []
    },
    {
      "cell_type": "code",
      "source": [
        "similar = []\n",
        "for i in similar_indices:\n",
        "    dist = sp.linalg.norm((new_post_vec - vectorized[i]).toarray())\n",
        "    similar.append((dist, train_data.data[i]))"
      ],
      "metadata": {
        "id": "VMddT3pTi6qH"
      },
      "execution_count": null,
      "outputs": []
    },
    {
      "cell_type": "code",
      "source": [
        "similar = sorted(similar)\n",
        "print(\"Count similar: %i\" % len(similar))"
      ],
      "metadata": {
        "colab": {
          "base_uri": "https://localhost:8080/"
        },
        "id": "-zvL0egvi9ac",
        "outputId": "f8930053-e6ad-45ac-ae60-08f9723b620e"
      },
      "execution_count": null,
      "outputs": [
        {
          "output_type": "stream",
          "name": "stdout",
          "text": [
            "Count similar: 56\n"
          ]
        }
      ]
    },
    {
      "cell_type": "code",
      "source": [
        "show_at_1 = similar[0]\n",
        "show_at_2 = similar[int(len(similar) / 10)]\n",
        "show_at_3 = similar[int(len(similar) / 2)]"
      ],
      "metadata": {
        "id": "WkGduoK7jBlZ"
      },
      "execution_count": null,
      "outputs": []
    },
    {
      "cell_type": "code",
      "source": [
        "print(\"=== #1 ===\")\n",
        "print(show_at_1)\n",
        "print()"
      ],
      "metadata": {
        "colab": {
          "base_uri": "https://localhost:8080/"
        },
        "id": "X8EmOILfj2B1",
        "outputId": "36875fe3-a4d5-464b-ca9c-b3848223ebf2"
      },
      "execution_count": null,
      "outputs": [
        {
          "output_type": "stream",
          "name": "stdout",
          "text": [
            "=== #1 ===\n",
            "(1.0378441731334074, \"From: Thomas Dachsel <GERTHD@mvs.sas.com>\\nSubject: BOOT PROBLEM with IDE controller\\nNntp-Posting-Host: sdcmvs.mvs.sas.com\\nOrganization: SAS Institute Inc.\\nLines: 25\\n\\nHi,\\nI've got a Multi I/O card (IDE controller + serial/parallel\\ninterface) and two floppy drives (5 1/4, 3 1/2) and a\\nQuantum ProDrive 80AT connected to it.\\nI was able to format the hard disk, but I could not boot from\\nit. I can boot from drive A: (which disk drive does not matter)\\nbut if I remove the disk from drive A and press the reset switch,\\nthe LED of drive A: continues to glow, and the hard disk is\\nnot accessed at all.\\nI guess this must be a problem of either the Multi I/o card\\nor floppy disk drive settings (jumper configuration?)\\nDoes someone have any hint what could be the reason for it.\\nPlease reply by email to GERTHD@MVS.SAS.COM\\nThanks,\\nThomas\\n+-------------------------------------------------------------------+\\n| Thomas Dachsel                                                    |\\n| Internet: GERTHD@MVS.SAS.COM                                      |\\n| Fidonet:  Thomas_Dachsel@camel.fido.de (2:247/40)                 |\\n| Subnet:   dachsel@rnivh.rni.sub.org (UUCP in Germany, now active) |\\n| Phone:    +49 6221 4150 (work), +49 6203 12274 (home)             |\\n| Fax:      +49 6221 415101                                         |\\n| Snail:    SAS Institute GmbH, P.O.Box 105307, D-W-6900 Heidelberg |\\n| Tagline:  One bad sector can ruin a whole day...                  |\\n+-------------------------------------------------------------------+\\n\")\n",
            "\n"
          ]
        }
      ]
    },
    {
      "cell_type": "code",
      "source": [
        "print(\"=== #2 ===\")\n",
        "print(show_at_2)\n",
        "print()"
      ],
      "metadata": {
        "id": "CWY2zQ5PkDO3",
        "outputId": "cb3ffae1-036a-4c38-a884-645d15299405",
        "colab": {
          "base_uri": "https://localhost:8080/"
        }
      },
      "execution_count": null,
      "outputs": [
        {
          "output_type": "stream",
          "name": "stdout",
          "text": [
            "=== #2 ===\n",
            "(1.1503043264096682, 'From: rpao@mts.mivj.ca.us (Roger C. Pao)\\nSubject: Re: Booting from B drive\\nOrganization: MicroTech Software\\nLines: 34\\n\\nglang@slee01.srl.ford.com (Gordon Lang) writes:\\n\\n>David Weisberger (djweisbe@unix.amherst.edu) wrote:\\n>: I have a 5 1/4\" drive as drive A.  How can I make the system boot from\\n>: my 3 1/2\" B drive?  (Optimally, the computer would be able to boot\\n>: from either A or B, checking them in order for a bootable disk.  But\\n>: if I have to switch cables around and simply switch the drives so that\\n>: it can\\'t boot 5 1/4\" disks, that\\'s OK.  Also, boot_b won\\'t do the trick\\n>: for me.)\\n>: \\n>: Thanks,\\n>:   Davebo\\n>We had the same issue plague us for months on our Gateway.  I finally\\n>got tired of it so I permanently interchanged the drives.  The only\\n>reason I didn\\'t do it in the first place was because I had several\\n>bootable 5-1/4\\'s and some 5-1/4 based install disks which expected\\n>the A drive.  I order all new software (and upgrades) to be 3-1/2 and\\n>the number of \"stupid\" install programs that can\\'t handle an alternate\\n>drive are declining with time - the ones I had are now upgraded.  And\\n>as for the bootable 5-1/4\\'s I just cut 3-1/2 replacements.\\n\\n>If switching the drives is not an option, you might be able to wire up\\n>a drive switch to your computer chasis.  I haven\\'t tried it but I think\\n>it would work as long as it is wired carefully.\\n\\nI did this.  I use a relay (Radio Shack 4PDT) instead of a huge\\nswitch.  This way, if the relay breaks, my drives will still work.\\n\\nIt works fine, but you may still need to change the CMOS before the\\ndrive switch will work correctly for some programs.\\n\\nrp93\\n-- \\nRoger C. Pao  {gordius,bagdad}!mts!rpao, rpao@mts.mivj.ca.us\\n')\n",
            "\n"
          ]
        }
      ]
    },
    {
      "cell_type": "code",
      "source": [],
      "metadata": {
        "id": "8FOGrYDiVfaV"
      },
      "execution_count": null,
      "outputs": []
    }
  ]
}