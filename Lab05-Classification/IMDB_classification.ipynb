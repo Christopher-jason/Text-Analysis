{
 "cells": [
  {
   "cell_type": "code",
   "execution_count": 2,
   "metadata": {},
   "outputs": [],
   "source": [
    "import os\n",
    "import numpy as np\n",
    "import io # modified for Python 2.7 MP\n",
    "import pandas as pd\n",
    "from sklearn.feature_extraction.text import CountVectorizer\n",
    "from sklearn.naive_bayes import MultinomialNB\n",
    "from sklearn.naive_bayes import BernoulliNB\n",
    "from sklearn.linear_model import LogisticRegression\n",
    "from sklearn.pipeline import Pipeline\n",
    "from sklearn.model_selection import KFold\n",
    "from sklearn.metrics import confusion_matrix, f1_score"
   ]
  },
  {
   "cell_type": "code",
   "execution_count": 4,
   "metadata": {},
   "outputs": [],
   "source": [
    "train_data = pd.read_csv('archive/Train.csv')\n",
    "test_data = pd.read_csv('archive/Test.csv')\n",
    "valid_data = pd.read_csv('archive/Valid.csv')"
   ]
  },
  {
   "cell_type": "code",
   "execution_count": 15,
   "metadata": {},
   "outputs": [],
   "source": [
    "pipeline_mNB = Pipeline([\n",
    "    ('count_vectorizer',   CountVectorizer(ngram_range=(1, 2),stop_words='english')),\n",
    "    ('classifier',         MultinomialNB())\n",
    "])"
   ]
  },
  {
   "cell_type": "code",
   "execution_count": 16,
   "metadata": {},
   "outputs": [],
   "source": [
    "pipeline_bNB = Pipeline([\n",
    "    ('count_vectorizer',   CountVectorizer(ngram_range=(1, 2),stop_words='english')),\n",
    "    ('classifier',         BernoulliNB(binarize=0.0))\n",
    "])"
   ]
  },
  {
   "cell_type": "code",
   "execution_count": 23,
   "metadata": {},
   "outputs": [],
   "source": [
    "pipeline_lr = Pipeline([\n",
    "    ('count_vectorizer',   CountVectorizer(ngram_range=(1, 2),stop_words='english')),\n",
    "    ('classifier',         LogisticRegression(solver='lbfgs', max_iter=100))\n",
    "])"
   ]
  },
  {
   "cell_type": "code",
   "execution_count": 21,
   "metadata": {},
   "outputs": [],
   "source": [
    "def pipeline_run(pipeline,train_data,test_data,pipe_name):\n",
    "    pipeline.fit(train_data.text, train_data.label)\n",
    "    predictions = pipeline.predict(test_data.text)\n",
    "    confusion = confusion_matrix(test_data.label, predictions)\n",
    "    score = f1_score(test_data.label, predictions, average=\"macro\")\n",
    "    print(pipe_name)\n",
    "    print('Total emails classified:', len(test_data))\n",
    "    print('Score:', score)\n",
    "    print('Confusion matrix:')\n",
    "    print(confusion)\n",
    "    print(\"\\n\")\n",
    "\n"
   ]
  },
  {
   "cell_type": "code",
   "execution_count": 24,
   "metadata": {},
   "outputs": [
    {
     "name": "stdout",
     "output_type": "stream",
     "text": [
      "MultinomialNB\n",
      "Total emails classified: 5000\n",
      "Score: 0.884394006985322\n",
      "Confusion matrix:\n",
      "[[2229  266]\n",
      " [ 312 2193]]\n",
      "\n",
      "\n",
      "BernoulliNB\n",
      "Total emails classified: 5000\n",
      "Score: 0.868369325493924\n",
      "Confusion matrix:\n",
      "[[2315  180]\n",
      " [ 476 2029]]\n",
      "\n",
      "\n"
     ]
    }
   ],
   "source": [
    "pipeline_run(pipeline_mNB,train_data,test_data,\"MultinomialNB\")\n",
    "pipeline_run(pipeline_bNB,train_data,test_data,\"BernoulliNB\")\n",
    "\n"
   ]
  },
  {
   "cell_type": "code",
   "execution_count": 25,
   "metadata": {},
   "outputs": [
    {
     "name": "stderr",
     "output_type": "stream",
     "text": [
      "/opt/homebrew/lib/python3.11/site-packages/sklearn/linear_model/_logistic.py:458: ConvergenceWarning: lbfgs failed to converge (status=1):\n",
      "STOP: TOTAL NO. of ITERATIONS REACHED LIMIT.\n",
      "\n",
      "Increase the number of iterations (max_iter) or scale the data as shown in:\n",
      "    https://scikit-learn.org/stable/modules/preprocessing.html\n",
      "Please also refer to the documentation for alternative solver options:\n",
      "    https://scikit-learn.org/stable/modules/linear_model.html#logistic-regression\n",
      "  n_iter_i = _check_optimize_result(\n"
     ]
    },
    {
     "name": "stdout",
     "output_type": "stream",
     "text": [
      "LogisticRegression\n",
      "Total emails classified: 5000\n",
      "Score: 0.8987801609115387\n",
      "Confusion matrix:\n",
      "[[2212  283]\n",
      " [ 223 2282]]\n",
      "\n",
      "\n"
     ]
    }
   ],
   "source": [
    "pipeline_run(pipeline_lr,train_data,test_data,\"LogisticRegression\")"
   ]
  },
  {
   "cell_type": "code",
   "execution_count": 10,
   "metadata": {},
   "outputs": [],
   "source": [
    "k_fold = KFold(n_splits=3, random_state=4, shuffle=True)\n",
    "scores = []\n",
    "confusion = np.array([[0, 0], [0, 0]])\n",
    "\n",
    "data = train_data\n",
    "for i, (train_indices, test_indices) in enumerate(k_fold.split(data)):\n",
    "\n",
    "    train_text = data.iloc[train_indices]['text'].values\n",
    "    train_y = data.iloc[train_indices]['label'].values.astype(str)\n",
    "\n",
    "    test_text = data.iloc[test_indices]['text'].values\n",
    "    test_y = data.iloc[test_indices]['label'].values.astype(str)\n",
    "    pipeline.fit(train_text, train_y)\n",
    "    predictions = pipeline.predict(test_text)\n",
    "    confusion += confusion_matrix(test_y, predictions)\n",
    "    score = f1_score(test_y, predictions, average=\"macro\")\n",
    "    scores.append(score)\n"
   ]
  },
  {
   "cell_type": "code",
   "execution_count": 11,
   "metadata": {},
   "outputs": [
    {
     "name": "stdout",
     "output_type": "stream",
     "text": [
      "Total emails classified: 40000\n",
      "Score: 0.8746224444911764\n",
      "Confusion matrix:\n",
      "[[17875  2144]\n",
      " [ 2869 17112]]\n"
     ]
    }
   ],
   "source": [
    "print('Total emails classified:', len(data))\n",
    "print('Score:', sum(scores)/len(scores))\n",
    "print('Confusion matrix:')\n",
    "print(confusion)"
   ]
  }
 ],
 "metadata": {
  "kernelspec": {
   "display_name": "Python 3",
   "language": "python",
   "name": "python3"
  },
  "language_info": {
   "codemirror_mode": {
    "name": "ipython",
    "version": 3
   },
   "file_extension": ".py",
   "mimetype": "text/x-python",
   "name": "python",
   "nbconvert_exporter": "python",
   "pygments_lexer": "ipython3",
   "version": "3.11.0"
  },
  "orig_nbformat": 4,
  "vscode": {
   "interpreter": {
    "hash": "5c7b89af1651d0b8571dde13640ecdccf7d5a6204171d6ab33e7c296e100e08a"
   }
  }
 },
 "nbformat": 4,
 "nbformat_minor": 2
}
